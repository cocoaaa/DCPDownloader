{
 "cells": [
  {
   "cell_type": "markdown",
   "id": "c236c91a",
   "metadata": {},
   "source": [
    "## Load libraries"
   ]
  },
  {
   "cell_type": "code",
   "execution_count": null,
   "id": "24be9d70",
   "metadata": {},
   "outputs": [],
   "source": [
    "%reload_ext autoreload\n",
    "%autoreload 2\n",
    "%matplotlib inline"
   ]
  },
  {
   "cell_type": "code",
   "execution_count": 1,
   "id": "3978fb4e",
   "metadata": {},
   "outputs": [],
   "source": [
    "import os,sys\n",
    "import re\n",
    "import math\n",
    "from datetime import datetime\n",
    "import time\n",
    "from collections import OrderedDict\n",
    "from functools import partial\n",
    "sys.dont_write_bytecode = True\n",
    "from IPython.core.debugger import set_trace as breakpoint"
   ]
  },
  {
   "cell_type": "code",
   "execution_count": null,
   "id": "4eca7c69",
   "metadata": {},
   "outputs": [],
   "source": [
    "import json\n",
    "import pandas as pd\n",
    "import joblib\n",
    "import numpy as np\n",
    "import matplotlib.pyplot as plt\n",
    "from PIL import Image\n",
    "\n",
    "from pathlib import Path\n",
    "from typing import Any,List, Set, Dict, Tuple, Optional, Iterable, Mapping, Union, Callable, TypeVar\n",
    "\n",
    "from pprint import pprint\n",
    "from tqdm import tqdm"
   ]
  },
  {
   "cell_type": "code",
   "execution_count": null,
   "id": "2f9bf85f",
   "metadata": {},
   "outputs": [],
   "source": [
    "import torch \n",
    "import torch.nn as nn\n",
    "import torch.nn.functional as F\n",
    "import torch.optim as optim\n",
    "from  torch.linalg import norm as tnorm\n",
    "from torch.utils.data import Dataset, DataLoader, random_split\n",
    "import torchvision\n",
    "from torchvision import datasets, transforms\n",
    "from torchvision.utils import save_image, make_grid\n",
    "\n",
    "import pytorch_lightning as pl\n",
    "from pytorch_lightning.core.lightning import LightningModule\n",
    "from pytorch_lightning import loggers as pl_loggers\n",
    "from pytorch_lightning.tuner.tuning import Tuner\n",
    "from pytorch_lightning.callbacks import Callback\n",
    "\n",
    "# Select Visible GPU\n",
    "os.environ[\"CUDA_DEVICE_ORDER\"]=\"PCI_BUS_ID\" \n",
    "os.environ[\"CUDA_VISIBLE_DEVICES\"]=\"2\"\n",
    "DEVICE = torch.device(\"cuda\" if torch.cuda.is_available() else \"cpu\")\n"
   ]
  },
  {
   "cell_type": "markdown",
   "id": "837cfe6e",
   "metadata": {
    "tags": []
   },
   "source": [
    "## Import ReprLearn and TileMani packages"
   ]
  },
  {
   "cell_type": "code",
   "execution_count": null,
   "id": "cc018aa4",
   "metadata": {},
   "outputs": [],
   "source": [
    "import reprlearn as rl"
   ]
  },
  {
   "cell_type": "code",
   "execution_count": null,
   "id": "28d7d23b",
   "metadata": {},
   "outputs": [],
   "source": [
    "from reprlearn.visualize.utils import get_fig, show_timg, show_timgs, show_npimgs, show_batch, make_grid_from_tensors\n",
    "from reprlearn.utils.misc import info, now2str, today2str, get_next_version_path, n_iter_per_epoch\n"
   ]
  },
  {
   "cell_type": "markdown",
   "id": "3d6972de",
   "metadata": {},
   "source": [
    "## Path to data root dirs\n",
    "- DATA_ROOT: \n",
    "  - Use '/data/hayley-old/Tenanbaum2000/data' for MNIST, Mono-MNIST, Rotated-MNIST, Teapots\n",
    "  - Use `/data/hayley-old/maptiles_v2' folder for Maptile dataset\n",
    "  "
   ]
  },
  {
   "cell_type": "code",
   "execution_count": null,
   "id": "34746663",
   "metadata": {},
   "outputs": [],
   "source": [
    "# ROOT = Path(\"/data/hayley-old/Tenanbaum2000\")\n",
    "# DATA_ROOT = Path(\"/data/hayley-old/Tenanbaum2000/data\")\n",
    "# MAP_DATA_ROOT = Path(\"/data/hayley-old/maptiles_v2/\")\n",
    "\n",
    "data_root = Path(\"/data/datasets\")\n",
    "real_data_dir = Path(\"/data/datasets/reverse-eng-data/originals/CelebA/img_align_celeba\")\n",
    "print(\"data_root: \", str(data_root))\n",
    "print(\"real_data_root  (original celeba): \", str(real_data_dir))\n",
    "print(real_data_dir.exists())"
   ]
  }
 ],
 "metadata": {
  "kernelspec": {
   "display_name": "Python [conda env:test]",
   "language": "python",
   "name": "conda-env-test-py"
  },
  "language_info": {
   "codemirror_mode": {
    "name": "ipython",
    "version": 3
   },
   "file_extension": ".py",
   "mimetype": "text/x-python",
   "name": "python",
   "nbconvert_exporter": "python",
   "pygments_lexer": "ipython3",
   "version": "3.8.12"
  }
 },
 "nbformat": 4,
 "nbformat_minor": 5
}
